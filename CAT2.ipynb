{
  "nbformat": 4,
  "nbformat_minor": 0,
  "metadata": {
    "colab": {
      "provenance": []
    },
    "kernelspec": {
      "name": "python3",
      "display_name": "Python 3"
    },
    "language_info": {
      "name": "python"
    }
  },
  "cells": [
    {
      "cell_type": "code",
      "execution_count": 3,
      "metadata": {
        "id": "KzALTQ7rLSLz"
      },
      "outputs": [],
      "source": [
        "# QUESTION 1\n",
        "import pandas as pd\n",
        "import numpy as np\n",
        "\n",
        "# Set a random seed for reproducibility\n",
        "np.random.seed(42)\n",
        "\n",
        "#  example data\n",
        "num_samples = 500\n",
        "\n",
        "user_ids = np.arange(1, num_samples + 1)\n",
        "ages = np.random.randint(18, 65, size=num_samples)\n",
        "genders = np.random.choice(['Male', 'Female'], size=num_samples)\n",
        "locations = np.random.choice(['Urban', 'Suburban', 'Rural'], size=num_samples)\n",
        "\n",
        "post_texts = [\"I support this !\" if np.random.rand() > 0.5 else \"Not sure who to vote for.\" for _ in range(num_samples)]\n",
        "likes = np.random.randint(0, 100, size=num_samples)\n",
        "shares = np.random.randint(0, 50, size=num_samples)\n",
        "comments = np.random.randint(0, 20, size=num_samples)\n",
        "followers = np.random.randint(100, 10000, size=num_samples)\n",
        "\n",
        "political_keywords = np.random.randint(0, 5, size=num_samples)\n",
        "sentiment_scores = np.random.uniform(-1, 1, size=num_samples)\n",
        "\n",
        "support_for_candidate = np.random.choice([0, 1], size=num_samples)\n",
        "\n",
        "# a sample DataFrame\n",
        "data = {\n",
        "    'user_id': user_ids,\n",
        "    'age': ages,\n",
        "    'gender': genders,\n",
        "    'location': locations,\n",
        "    'post_text': post_texts,\n",
        "    'likes': likes,\n",
        "    'shares': shares,\n",
        "    'comments': comments,\n",
        "    'followers': followers,\n",
        "    'political_keywords': political_keywords,\n",
        "    'sentiment_score': sentiment_scores,\n",
        "    'support_for_candidate': support_for_candidate\n",
        "}\n",
        "\n",
        "df = pd.DataFrame(data)\n",
        "\n",
        "# Save the dataset to a CSV file\n",
        "df.to_csv('posts.csv', index=False)\n"
      ]
    },
    {
      "cell_type": "code",
      "source": [
        "from sklearn.model_selection import train_test_split\n",
        "from sklearn.ensemble import RandomForestClassifier\n",
        "from sklearn.metrics import accuracy_score, classification_report\n",
        "df = pd.read_csv('posts.csv')\n",
        "\n",
        "# Define  (X) and target variable (y)\n",
        "X = df[['age', 'likes', 'shares', 'comments', 'followers', 'political_keywords', 'sentiment_score']]\n",
        "y = df['support_for_candidate']\n",
        "\n",
        "# Split the data into training and testing sets\n",
        "X_train, X_test, y_train, y_test = train_test_split(X, y, test_size=0.2, random_state=42)\n",
        "\n",
        "# Instantiate the Random Forest model\n",
        "model = RandomForestClassifier(random_state=42)\n",
        "\n",
        "# Train the model\n",
        "model.fit(X_train, y_train)\n",
        "\n",
        "# Make predictions\n",
        "y_pred = model.predict(X_test)\n",
        "\n",
        "# Evaluate the model\n",
        "accuracy = accuracy_score(y_test, y_pred)\n",
        "report = classification_report(y_test, y_pred)\n",
        "\n",
        "print(f\"Accuracy: {accuracy}\")\n",
        "print(\"Classification Report:\\n\", report)\n"
      ],
      "metadata": {
        "colab": {
          "base_uri": "https://localhost:8080/"
        },
        "id": "xNTA9wHTLvfJ",
        "outputId": "a48b4ef7-ff71-4dad-8e0d-3fc90c7f627f"
      },
      "execution_count": 4,
      "outputs": [
        {
          "output_type": "stream",
          "name": "stdout",
          "text": [
            "Accuracy: 0.5\n",
            "Classification Report:\n",
            "               precision    recall  f1-score   support\n",
            "\n",
            "           0       0.50      0.54      0.52        50\n",
            "           1       0.50      0.46      0.48        50\n",
            "\n",
            "    accuracy                           0.50       100\n",
            "   macro avg       0.50      0.50      0.50       100\n",
            "weighted avg       0.50      0.50      0.50       100\n",
            "\n"
          ]
        }
      ]
    },
    {
      "cell_type": "code",
      "source": [
        "# Get feature importances from the trained model\n",
        "feature_importances = model.feature_importances_\n",
        "\n",
        "# Create a DataFrame to display feature importance scores\n",
        "feature_importance_df = pd.DataFrame({'Feature': X.columns, 'Importance': feature_importances})\n",
        "feature_importance_df = feature_importance_df.sort_values(by='Importance', ascending=False)\n",
        "\n",
        "# Print the feature importance scores\n",
        "print(\"Feature Importance Scores:\\n\", feature_importance_df)\n",
        "\n",
        "# Plot the feature importance scores\n",
        "import matplotlib.pyplot as plt\n",
        "import seaborn as sns\n",
        "\n",
        "plt.figure(figsize=(10, 6))\n",
        "sns.barplot(x='Importance', y='Feature', data=feature_importance_df, palette='viridis')\n",
        "plt.title('Feature Importance Scores')\n",
        "plt.show()\n"
      ],
      "metadata": {
        "colab": {
          "base_uri": "https://localhost:8080/",
          "height": 716
        },
        "id": "AcKg2VAkMLK1",
        "outputId": "3c2483a1-da88-41b5-d9e3-5ac3b96015c8"
      },
      "execution_count": 5,
      "outputs": [
        {
          "output_type": "stream",
          "name": "stdout",
          "text": [
            "Feature Importance Scores:\n",
            "               Feature  Importance\n",
            "4           followers    0.190224\n",
            "6     sentiment_score    0.167941\n",
            "1               likes    0.161796\n",
            "0                 age    0.148962\n",
            "2              shares    0.147913\n",
            "3            comments    0.114070\n",
            "5  political_keywords    0.069093\n"
          ]
        },
        {
          "output_type": "display_data",
          "data": {
            "text/plain": [
              "<Figure size 1000x600 with 1 Axes>"
            ],
            "image/png": "[encoded data removed]"
          },
          "metadata": {}
        }
      ]
    },
    {
      "cell_type": "code",
      "source": [
        "pip install fairlearn --upgrade\n"
      ],
      "metadata": {
        "colab": {
          "base_uri": "https://localhost:8080/"
        },
        "id": "CU4Dpk7pQXF3",
        "outputId": "e42cb2e8-96cd-4260-f285-b3f36759bf4e"
      },
      "execution_count": 7,
      "outputs": [
        {
          "output_type": "stream",
          "name": "stdout",
          "text": [
            "Collecting fairlearn\n",
            "  Downloading fairlearn-0.9.0-py3-none-any.whl (231 kB)\n",
            "\u001b[2K     \u001b[90m━━━━━━━━━━━━━━━━━━━━━━━━━━━━━━━━━━━━━━━━\u001b[0m \u001b[32m231.5/231.5 kB\u001b[0m \u001b[31m3.4 MB/s\u001b[0m eta \u001b[36m0:00:00\u001b[0m\n",
            "\u001b[?25hRequirement already satisfied: numpy>=1.18.0 in /usr/local/lib/python3.10/dist-packages (from fairlearn) (1.23.5)\n",
            "Requirement already satisfied: pandas>=0.25.2 in /usr/local/lib/python3.10/dist-packages (from fairlearn) (1.5.3)\n",
            "Requirement already satisfied: scikit-learn>=0.22.1 in /usr/local/lib/python3.10/dist-packages (from fairlearn) (1.2.2)\n",
            "Requirement already satisfied: scipy>=1.5.0 in /usr/local/lib/python3.10/dist-packages (from fairlearn) (1.11.3)\n",
            "Requirement already satisfied: python-dateutil>=2.8.1 in /usr/local/lib/python3.10/dist-packages (from pandas>=0.25.2->fairlearn) (2.8.2)\n",
            "Requirement already satisfied: pytz>=2020.1 in /usr/local/lib/python3.10/dist-packages (from pandas>=0.25.2->fairlearn) (2023.3.post1)\n",
            "Requirement already satisfied: joblib>=1.1.1 in /usr/local/lib/python3.10/dist-packages (from scikit-learn>=0.22.1->fairlearn) (1.3.2)\n",
            "Requirement already satisfied: threadpoolctl>=2.0.0 in /usr/local/lib/python3.10/dist-packages (from scikit-learn>=0.22.1->fairlearn) (3.2.0)\n",
            "Requirement already satisfied: six>=1.5 in /usr/local/lib/python3.10/dist-packages (from python-dateutil>=2.8.1->pandas>=0.25.2->fairlearn) (1.16.0)\n",
            "Installing collected packages: fairlearn\n",
            "Successfully installed fairlearn-0.9.0\n"
          ]
        }
      ]
    },
    {
      "cell_type": "code",
      "source": [
        "from fairlearn.reductions import ExponentiatedGradient, DemographicParity, GridSearch\n",
        "from fairlearn.metrics import demographic_parity_difference, selection_rate\n",
        "\n",
        "# Assume you have already loaded and preprocessed the data (X_train, y_train, X_test, y_test)\n",
        "\n",
        "# Define the fairness constraint (Demographic Parity)\n",
        "fairness_constraint = DemographicParity()\n",
        "\n",
        "# Perform a grid search with Exponentiated Gradient Reduction\n",
        "fair_model = GridSearch(ExponentiatedGradient, constraints=fairness_constraint, grid_size=71)\n",
        "\n",
        "# Handle potential fitting errors\n",
        "try:\n",
        "    fair_model.fit(X_train, y_train)\n",
        "except Exception as e:\n",
        "    print(f\"Error during model fitting: {e}\")\n",
        "\n",
        "# Assess demographic parity on the test set\n",
        "demo_parity_diff = demographic_parity_difference(\n",
        "    y_true=y_test,\n",
        "    y_pred=fair_model.predict(X_test),\n",
        "    sensitive_features=X_test['gender']\n",
        ")\n",
        "selection_rate_diff = selection_rate(\n",
        "    y_true=y_test,\n",
        "    y_pred=fair_model.predict(X_test),\n",
        "    sensitive_features=X_test['gender']\n",
        ")\n",
        "\n",
        "# Print fairness metrics\n",
        "print(f\"Demographic Parity Difference: {demo_parity_diff}\")\n",
        "print(f\"Selection Rate Difference: {selection_rate_diff}\")\n"
      ],
      "metadata": {
        "colab": {
          "base_uri": "https://localhost:8080/",
          "height": 383
        },
        "id": "sE_L6k8m3beV",
        "outputId": "2b66db7e-80fa-47b9-c538-f4f86b330cc1"
      },
      "execution_count": 6,
      "outputs": [
        {
          "output_type": "error",
          "ename": "ModuleNotFoundError",
          "evalue": "ignored",
          "traceback": [
            "\u001b[0;31m---------------------------------------------------------------------------\u001b[0m",
            "\u001b[0;31mModuleNotFoundError\u001b[0m                       Traceback (most recent call last)",
            "\u001b[0;32m<ipython-input-6-6c2d76ea4582>\u001b[0m in \u001b[0;36m<cell line: 1>\u001b[0;34m()\u001b[0m\n\u001b[0;32m----> 1\u001b[0;31m \u001b[0;32mfrom\u001b[0m \u001b[0mfairlearn\u001b[0m\u001b[0;34m.\u001b[0m\u001b[0mreductions\u001b[0m \u001b[0;32mimport\u001b[0m \u001b[0mExponentiatedGradient\u001b[0m\u001b[0;34m,\u001b[0m \u001b[0mDemographicParity\u001b[0m\u001b[0;34m,\u001b[0m \u001b[0mGridSearch\u001b[0m\u001b[0;34m\u001b[0m\u001b[0;34m\u001b[0m\u001b[0m\n\u001b[0m\u001b[1;32m      2\u001b[0m \u001b[0;32mfrom\u001b[0m \u001b[0mfairlearn\u001b[0m\u001b[0;34m.\u001b[0m\u001b[0mmetrics\u001b[0m \u001b[0;32mimport\u001b[0m \u001b[0mdemographic_parity_difference\u001b[0m\u001b[0;34m,\u001b[0m \u001b[0mselection_rate\u001b[0m\u001b[0;34m\u001b[0m\u001b[0;34m\u001b[0m\u001b[0m\n\u001b[1;32m      3\u001b[0m \u001b[0;34m\u001b[0m\u001b[0m\n\u001b[1;32m      4\u001b[0m \u001b[0;31m# Assume you have already loaded and preprocessed the data (X_train, y_train, X_test, y_test)\u001b[0m\u001b[0;34m\u001b[0m\u001b[0;34m\u001b[0m\u001b[0m\n\u001b[1;32m      5\u001b[0m \u001b[0;34m\u001b[0m\u001b[0m\n",
            "\u001b[0;31mModuleNotFoundError\u001b[0m: No module named 'fairlearn'",
            "",
            "\u001b[0;31m---------------------------------------------------------------------------\u001b[0;32m\nNOTE: If your import is failing due to a missing package, you can\nmanually install dependencies using either !pip or !apt.\n\nTo view examples of installing some common dependencies, click the\n\"Open Examples\" button below.\n\u001b[0;31m---------------------------------------------------------------------------\u001b[0m\n"
          ],
          "errorDetails": {
            "actions": [
              {
                "action": "open_url",
                "actionText": "Open Examples",
                "url": "/notebooks/snippets/importing_libraries.ipynb"
              }
            ]
          }
        }
      ]
    },
    {
      "cell_type": "code",
      "source": [
        "# QUESTION TWO\n",
        "!pip install faker\n",
        "\n"
      ],
      "metadata": {
        "colab": {
          "base_uri": "https://localhost:8080/"
        },
        "id": "uTmE8buX3kdM",
        "outputId": "328adc26-ec2f-4171-9e72-6fabcfe1fd01"
      },
      "execution_count": null,
      "outputs": [
        {
          "output_type": "stream",
          "name": "stdout",
          "text": [
            "Collecting faker\n",
            "  Downloading Faker-20.0.3-py3-none-any.whl (1.7 MB)\n",
            "\u001b[2K     \u001b[90m━━━━━━━━━━━━━━━━━━━━━━━━━━━━━━━━━━━━━━━━\u001b[0m \u001b[32m1.7/1.7 MB\u001b[0m \u001b[31m15.4 MB/s\u001b[0m eta \u001b[36m0:00:00\u001b[0m\n",
            "\u001b[?25hRequirement already satisfied: python-dateutil>=2.4 in /usr/local/lib/python3.10/dist-packages (from faker) (2.8.2)\n",
            "Requirement already satisfied: six>=1.5 in /usr/local/lib/python3.10/dist-packages (from python-dateutil>=2.4->faker) (1.16.0)\n",
            "Installing collected packages: faker\n",
            "Successfully installed faker-20.0.3\n"
          ]
        }
      ]
    },
    {
      "cell_type": "code",
      "source": [
        "import pandas as pd\n",
        "import numpy as np\n",
        "from faker import Faker\n",
        "from datetime import datetime, timedelta\n",
        "\n",
        "# Initialize Faker for generating synthetic data\n",
        "fake = Faker()\n",
        "\n",
        "# Example 1: Historical Student Enrollment Data\n",
        "enrollment_data = pd.DataFrame({\n",
        "    'Student_ID': np.arange(1, 101),\n",
        "    'Enrollment_Year': np.random.choice([2018, 2019, 2020], size=100),\n",
        "    'Program_ID': np.random.choice(['A', 'B', 'C'], size=100),\n",
        "    'Enrollment_Status': np.random.choice(['Full-Time', 'Part-Time'], size=100),\n",
        "})\n",
        "\n",
        "# Save to CSV\n",
        "enrollment_data.to_csv('enrollment.csv', index=False)\n",
        "\n",
        "# Example 2: Student Academic Records\n",
        "academic_records_data = pd.DataFrame({\n",
        "    'Student_ID': np.arange(1, 101),\n",
        "    'Course_Name': np.random.choice(['Math', 'English', 'History'], size=100),\n",
        "    'Grade': np.random.choice(['A', 'B', 'C', 'D', 'F'], size=100),\n",
        "})\n",
        "\n",
        "# Save to CSV\n",
        "academic_records_data.to_csv('academics_data.csv', index=False)\n",
        "\n",
        "# Example 3: Student Demographic Data\n",
        "demographic_data = pd.DataFrame({\n",
        "    'Student_ID': np.arange(1, 101),\n",
        "    'Name': [fake.name() for _ in range(100)],\n",
        "    'Gender': np.random.choice(['Male', 'Female'], size=100),\n",
        "    'DOB': [fake.date_of_birth(minimum_age=18, maximum_age=25) for _ in range(100)],\n",
        "})\n",
        "\n",
        "# Save to CSV\n",
        "demographic_data.to_csv('demographic-data.csv', index=False)\n",
        "\n",
        "# Display a preview of each dataset\n",
        "print(\"A preveiw of enrollment data:\")\n",
        "print(enrollment_data.head())\n",
        "\n",
        "print(\"\\nA preveiw of accademic data:\")\n",
        "print(academic_records_data.head())\n",
        "\n",
        "print(\"\\nA preveiw of demographic data:\")\n",
        "print(demographic_data.head())\n"
      ],
      "metadata": {
        "colab": {
          "base_uri": "https://localhost:8080/"
        },
        "id": "_IIDOQQn9JdW",
        "outputId": "5739700b-a360-4e2f-f4e4-86fb41980af9"
      },
      "execution_count": null,
      "outputs": [
        {
          "output_type": "stream",
          "name": "stdout",
          "text": [
            "A preveiw of enrollment data:\n",
            "   Student_ID  Enrollment_Year Program_ID Enrollment_Status\n",
            "0           1             2020          A         Full-Time\n",
            "1           2             2018          A         Part-Time\n",
            "2           3             2019          A         Full-Time\n",
            "3           4             2020          C         Full-Time\n",
            "4           5             2020          A         Full-Time\n",
            "\n",
            "A preveiw of accademic data:\n",
            "   Student_ID Course_Name Grade\n",
            "0           1     English     B\n",
            "1           2     History     C\n",
            "2           3        Math     B\n",
            "3           4        Math     D\n",
            "4           5     History     C\n",
            "\n",
            "A preveiw of demographic data:\n",
            "   Student_ID              Name  Gender         DOB\n",
            "0           1  Arthur Jefferson    Male  2001-11-27\n",
            "1           2      Rachel Simon    Male  2004-02-16\n",
            "2           3         Jose Lamb  Female  2004-09-23\n",
            "3           4     Cathy Morales  Female  2000-01-07\n",
            "4           5       Jacob Potts  Female  2003-08-24\n"
          ]
        }
      ]
    },
    {
      "cell_type": "code",
      "source": [
        "# Load the generated datasets\n",
        "enrollment_data = pd.read_csv('enrollment.csv')\n",
        "academic_records_data = pd.read_csv('academics_data.csv')\n",
        "demographic_data = pd.read_csv('demographic-data.csv')\n",
        "\n",
        "# Display a preview of each dataset before preprocessing\n",
        "print(\"Enrollment Data Preview (Before):\")\n",
        "print(enrollment_data.head())\n",
        "\n",
        "print(\"\\nAcademic Records Data Preview (Before):\")\n",
        "print(academic_records_data.head())\n",
        "\n",
        "print(\"\\nDemographic Data Preview (Before Preprocessing):\")\n",
        "print(demographic_data.head())\n",
        "\n",
        "# Checking  missing values\n",
        "print(\"\\n The missing Values:\")\n",
        "print(\"Enrollment Data:\", enrollment_data.isnull().sum())\n",
        "print(\"Academic Records Data:\", academic_records_data.isnull().sum())\n",
        "print(\"Demographic Data:\", demographic_data.isnull().sum())\n",
        "\n",
        "# Merging datasets based on Student_ID\n",
        "merged_data = pd.merge(enrollment_data, academic_records_data, on='Student_ID', how='inner')\n",
        "merged_data = pd.merge(merged_data, demographic_data, on='Student_ID', how='inner')\n",
        "\n",
        "# Displaying  a preview of the merged dataset\n",
        "print(\"\\nMerged Data Preview:\")\n",
        "print(merged_data.head())\n"
      ],
      "metadata": {
        "colab": {
          "base_uri": "https://localhost:8080/"
        },
        "id": "N4q3yW1Z-eE-",
        "outputId": "f013452e-ad26-4616-95e8-557bc17b0bf8"
      },
      "execution_count": null,
      "outputs": [
        {
          "output_type": "stream",
          "name": "stdout",
          "text": [
            "Enrollment Data Preview (Before):\n",
            "   Student_ID  Enrollment_Year Program_ID Enrollment_Status\n",
            "0           1             2020          A         Full-Time\n",
            "1           2             2018          A         Part-Time\n",
            "2           3             2019          A         Full-Time\n",
            "3           4             2020          C         Full-Time\n",
            "4           5             2020          A         Full-Time\n",
            "\n",
            "Academic Records Data Preview (Before):\n",
            "   Student_ID Course_Name Grade\n",
            "0           1     English     B\n",
            "1           2     History     C\n",
            "2           3        Math     B\n",
            "3           4        Math     D\n",
            "4           5     History     C\n",
            "\n",
            "Demographic Data Preview (Before Preprocessing):\n",
            "   Student_ID              Name  Gender         DOB\n",
            "0           1  Arthur Jefferson    Male  2001-11-27\n",
            "1           2      Rachel Simon    Male  2004-02-16\n",
            "2           3         Jose Lamb  Female  2004-09-23\n",
            "3           4     Cathy Morales  Female  2000-01-07\n",
            "4           5       Jacob Potts  Female  2003-08-24\n",
            "\n",
            " The missing Values:\n",
            "Enrollment Data: Student_ID           0\n",
            "Enrollment_Year      0\n",
            "Program_ID           0\n",
            "Enrollment_Status    0\n",
            "dtype: int64\n",
            "Academic Records Data: Student_ID     0\n",
            "Course_Name    0\n",
            "Grade          0\n",
            "dtype: int64\n",
            "Demographic Data: Student_ID    0\n",
            "Name          0\n",
            "Gender        0\n",
            "DOB           0\n",
            "dtype: int64\n",
            "\n",
            "Merged Data Preview:\n",
            "   Student_ID  Enrollment_Year Program_ID Enrollment_Status Course_Name Grade  \\\n",
            "0           1             2020          A         Full-Time     English     B   \n",
            "1           2             2018          A         Part-Time     History     C   \n",
            "2           3             2019          A         Full-Time        Math     B   \n",
            "3           4             2020          C         Full-Time        Math     D   \n",
            "4           5             2020          A         Full-Time     History     C   \n",
            "\n",
            "               Name  Gender         DOB  \n",
            "0  Arthur Jefferson    Male  2001-11-27  \n",
            "1      Rachel Simon    Male  2004-02-16  \n",
            "2         Jose Lamb  Female  2004-09-23  \n",
            "3     Cathy Morales  Female  2000-01-07  \n",
            "4       Jacob Potts  Female  2003-08-24  \n"
          ]
        }
      ]
    },
    {
      "cell_type": "code",
      "source": [
        "# Assuming 'merged_data' is the merged and preprocessed dataset\n",
        "\n",
        "# Define features (X) and target variable (y)\n",
        "features = ['Enrollment_Year', 'Program_ID', 'Enrollment_Status', 'Course_Name', 'Gender', 'Age']\n",
        "X = merged_data[features]\n",
        "# Replace 'Graduation_Status' with the actual target variable column name\n",
        "y = merged_data['Enrollment_Status']\n",
        "\n",
        "# Convert categorical variables to numerical using one-hot encoding\n",
        "X = pd.get_dummies(X)\n",
        "\n",
        "# Split the data into training and testing sets\n",
        "X_train, X_test, y_train, y_test = train_test_split(X, y, test_size=0.2, random_state=42)\n",
        "\n",
        "# Instantiate the Random Forest model\n",
        "model = RandomForestClassifier(random_state=42)\n",
        "\n",
        "# Train the model\n",
        "model.fit(X_train, y_train)\n",
        "\n",
        "# Make predictions\n",
        "y_pred = model.predict(X_test)\n",
        "\n",
        "# Evaluate the model\n",
        "accuracy = accuracy_score(y_test, y_pred)\n",
        "report = classification_report(y_test, y_pred)\n",
        "\n",
        "print(f\"Accuracy: {accuracy}\")\n",
        "print(\"Classification Report:\\n\", report)\n",
        "\n"
      ],
      "metadata": {
        "colab": {
          "base_uri": "https://localhost:8080/"
        },
        "id": "0b55P3w3LP8J",
        "outputId": "40d2dcbe-2e8c-4ad0-f785-c8fe6ac5e36e"
      },
      "execution_count": null,
      "outputs": [
        {
          "output_type": "stream",
          "name": "stdout",
          "text": [
            "Accuracy: 1.0\n",
            "Classification Report:\n",
            "               precision    recall  f1-score   support\n",
            "\n",
            "   Full-Time       1.00      1.00      1.00         8\n",
            "   Part-Time       1.00      1.00      1.00        12\n",
            "\n",
            "    accuracy                           1.00        20\n",
            "   macro avg       1.00      1.00      1.00        20\n",
            "weighted avg       1.00      1.00      1.00        20\n",
            "\n"
          ]
        }
      ]
    },
    {
      "cell_type": "code",
      "source": [
        "from sklearn.feature_selection import SelectFromModel\n",
        "\n",
        "# Feature engineering: Creating a new feature for student age\n",
        "merged_data['DOB'] = pd.to_datetime(merged_data['DOB'])\n",
        "merged_data['Age'] = (datetime.now() - merged_data['DOB']).astype('<m8[Y]')\n",
        "\n",
        "# Define features (X) and target variable (y)\n",
        "features = ['Enrollment_Year', 'Program_ID', 'Enrollment_Status', 'Course_Name', 'Gender', 'Age']\n",
        "X = merged_data[features]\n",
        "# Replace 'Enrollment_Status' with the actual target variable column name\n",
        "y = merged_data['Enrollment_Status']\n",
        "\n",
        "# Convert categorical variables to numerical using one-hot encoding\n",
        "X = pd.get_dummies(X)\n",
        "\n",
        "# Split the data into training and testing sets\n",
        "X_train, X_test, y_train, y_test = train_test_split(X, y, test_size=0.2, random_state=42)\n",
        "\n",
        "# Instantiate the Random Forest model\n",
        "model = RandomForestClassifier(random_state=42)\n",
        "\n",
        "# Train the model\n",
        "model.fit(X_train, y_train)\n",
        "\n",
        "# Feature importance from the trained model\n",
        "feature_importance = model.feature_importances_\n",
        "\n",
        "# Display feature importance\n",
        "feature_importance_df = pd.DataFrame({'Feature': X.columns, 'Importance': feature_importance})\n",
        "feature_importance_df = feature_importance_df.sort_values(by='Importance', ascending=False)\n",
        "print(\"Feature Importance:\")\n",
        "print(feature_importance_df)\n",
        "\n",
        "# Select top features based on importance\n",
        "sfm = SelectFromModel(model, threshold=0.1)\n",
        "sfm.fit(X_train, y_train)\n",
        "X_train_selected = sfm.transform(X_train)\n",
        "X_test_selected = sfm.transform(X_test)\n",
        "\n",
        "# Display selected features\n",
        "selected_features = X.columns[sfm.get_support()]\n",
        "print(\"\\nSelected Features:\")\n",
        "print(selected_features)\n",
        "\n"
      ],
      "metadata": {
        "colab": {
          "base_uri": "https://localhost:8080/"
        },
        "id": "DhQfu4JDL2nK",
        "outputId": "10976c18-4921-4a1a-9a05-6fc1db40ea7b"
      },
      "execution_count": null,
      "outputs": [
        {
          "output_type": "stream",
          "name": "stdout",
          "text": [
            "Feature Importance:\n",
            "                        Feature  Importance\n",
            "5   Enrollment_Status_Full-Time    0.502229\n",
            "6   Enrollment_Status_Part-Time    0.381195\n",
            "1                           Age    0.029025\n",
            "0               Enrollment_Year    0.023264\n",
            "11                  Gender_Male    0.014374\n",
            "10                Gender_Female    0.014150\n",
            "2                  Program_ID_A    0.009608\n",
            "4                  Program_ID_C    0.006582\n",
            "3                  Program_ID_B    0.006430\n",
            "9              Course_Name_Math    0.005395\n",
            "8           Course_Name_History    0.004826\n",
            "7           Course_Name_English    0.002924\n",
            "\n",
            "Selected Features:\n",
            "Index(['Enrollment_Status_Full-Time', 'Enrollment_Status_Part-Time'], dtype='object')\n"
          ]
        }
      ]
    },
    {
      "cell_type": "code",
      "source": [
        "# Assuming 'X_train_selected', 'X_test_selected', 'y_train', and 'y_test' are defined\n",
        "\n",
        "# Instantiate the Random Forest model\n",
        "model = RandomForestClassifier(random_state=42)\n",
        "\n",
        "# Train the model on the selected features\n",
        "model.fit(X_train_selected, y_train)\n",
        "\n",
        "# Make predictions on the test set\n",
        "y_pred = model.predict(X_test_selected)\n",
        "\n",
        "# Evaluate the model\n",
        "accuracy = accuracy_score(y_test, y_pred)\n",
        "report = classification_report(y_test, y_pred)\n",
        "\n",
        "print(f\"Accuracy: {accuracy}\")\n",
        "print(\"Classification of the Report:\\n\", report)\n"
      ],
      "metadata": {
        "colab": {
          "base_uri": "https://localhost:8080/"
        },
        "id": "AYN27k26NWQb",
        "outputId": "158f926d-eee1-487c-f6fc-25251d0f7a27"
      },
      "execution_count": null,
      "outputs": [
        {
          "output_type": "stream",
          "name": "stdout",
          "text": [
            "Accuracy: 1.0\n",
            "Classification of the Report:\n",
            "               precision    recall  f1-score   support\n",
            "\n",
            "   Full-Time       1.00      1.00      1.00         8\n",
            "   Part-Time       1.00      1.00      1.00        12\n",
            "\n",
            "    accuracy                           1.00        20\n",
            "   macro avg       1.00      1.00      1.00        20\n",
            "weighted avg       1.00      1.00      1.00        20\n",
            "\n"
          ]
        }
      ]
    },
    {
      "cell_type": "code",
      "source": [
        "# QUESTION 3\n",
        "import pandas as pd\n",
        "import numpy as np\n",
        "from faker import Faker\n",
        "from datetime import datetime, timedelta\n",
        "\n",
        "# Initialize Faker for generating synthetic data\n",
        "fake = Faker()\n",
        "\n",
        "# Example 1: Sensor Data\n",
        "sensor_data = pd.DataFrame({\n",
        "    'Equipment_ID': np.arange(1, 101),\n",
        "    'Timestamp': [fake.date_time_this_year() for _ in range(100)],\n",
        "    'Sensor_1': np.random.uniform(low=0, high=100, size=100),\n",
        "    'Sensor_2': np.random.uniform(low=0, high=100, size=100),\n",
        "    # Add more sensor readings as needed\n",
        "})\n",
        "\n",
        "# Save to CSV\n",
        "sensor_data.to_csv('sensor_data.csv', index=False)\n",
        "\n",
        "# Example 2: Historical Maintenance Records\n",
        "maintenance_records = pd.DataFrame({\n",
        "    'Equipment_ID': np.arange(1, 101),\n",
        "    'Maintenance_Date': [fake.date_time_this_decade() for _ in range(100)],\n",
        "    'Maintenance_Type': np.random.choice(['Preventive', 'Corrective'], size=100),\n",
        "    'Downtime_Hours': np.random.randint(low=1, high=24, size=100),\n",
        "})\n",
        "\n",
        "# Save to CSV\n",
        "maintenance_records.to_csv('maintenance_records.csv', index=False)\n",
        "\n",
        "# Display a preview of each dataset\n",
        "print(\"Sensor Data Preview:\")\n",
        "print(sensor_data.head())\n",
        "\n",
        "print(\"\\nMaintenance Records Preview:\")\n",
        "print(maintenance_records.head())\n"
      ],
      "metadata": {
        "colab": {
          "base_uri": "https://localhost:8080/"
        },
        "id": "2wal1mFWNfpI",
        "outputId": "87759329-b6a5-47aa-e954-4963bd21e38c"
      },
      "execution_count": null,
      "outputs": [
        {
          "output_type": "stream",
          "name": "stdout",
          "text": [
            "Sensor Data Preview:\n",
            "   Equipment_ID                  Timestamp   Sensor_1   Sensor_2\n",
            "0             1 2023-10-17 18:00:03.852196  56.423182  40.202722\n",
            "1             2 2023-08-16 17:10:22.941958  85.057453  72.893920\n",
            "2             3 2023-09-25 13:10:20.626337  20.152838  77.982088\n",
            "3             4 2023-01-05 14:41:11.449338  93.443304  11.821862\n",
            "4             5 2023-08-27 04:45:41.245064  68.908765   0.003072\n",
            "\n",
            "Maintenance Records Preview:\n",
            "   Equipment_ID           Maintenance_Date Maintenance_Type  Downtime_Hours\n",
            "0             1 2020-08-07 04:08:50.992639       Preventive              15\n",
            "1             2 2021-12-02 09:29:39.333243       Corrective               4\n",
            "2             3 2021-06-22 19:41:56.952353       Corrective               5\n",
            "3             4 2021-06-03 15:59:08.582599       Preventive              17\n",
            "4             5 2023-05-11 08:06:57.100708       Preventive               7\n"
          ]
        }
      ]
    },
    {
      "cell_type": "code",
      "source": [
        "import pandas as pd\n",
        "import numpy as np\n",
        "from faker import Faker\n",
        "from datetime import datetime, timedelta\n",
        "fake = Faker()\n",
        "\n",
        "#  Sensor Data 1\n",
        "sensor_data = pd.DataFrame({\n",
        "    'Equipment_ID': np.arange(1, 101),\n",
        "    'Timestamp': [fake.date_time_this_year() for _ in range(100)],\n",
        "    'Sensor_1': np.random.uniform(low=0, high=100, size=100),\n",
        "    'Sensor_2': np.random.uniform(low=0, high=100, size=100),\n",
        "\n",
        "})\n",
        "\n",
        "# Introduce some missing values and outliers for demonstration\n",
        "sensor_data.loc[sensor_data['Equipment_ID'] % 5 == 0, 'Sensor_1'] = np.nan\n",
        "sensor_data.loc[sensor_data['Equipment_ID'] % 10 == 0, 'Sensor_2'] = 150\n",
        "\n",
        "# Save to CSV\n",
        "sensor_data.to_csv('sensor_data.csv', index=False)\n",
        "\n",
        "# Example 2: Historical Maintenance of Records\n",
        "maintenance_records = pd.DataFrame({\n",
        "    'Equipment_ID': np.arange(1, 101),\n",
        "    'Maintenance_Date': [fake.date_time_this_decade() for _ in range(100)],\n",
        "    'Maintenance_Type': np.random.choice(['Preventive', 'Corrective'], size=100),\n",
        "    'Downtime_Hours': np.random.randint(low=1, high=24, size=100),\n",
        "})\n",
        "\n",
        "# Save to CSV\n",
        "maintenance_records.to_csv('maintenance_records.csv', index=False)\n",
        "\n",
        "# Displaying a preview of each dataset before preprocessing\n",
        "print(\"Sensor Data Preview (Before Preprocessing):\")\n",
        "print(sensor_data.head())\n",
        "\n",
        "print(\"\\nMaintenance Records Preview (Before Preprocessing):\")\n",
        "print(maintenance_records.head())\n",
        "\n",
        "# Data Preprocessing\n",
        "\n",
        "# Handle missing values\n",
        "sensor_data = sensor_data.fillna(sensor_data.median())\n",
        "\n",
        "# Identify and address outliers\n",
        "sensor_data['Sensor_1'] = np.clip(sensor_data['Sensor_1'], 0, 100)  # Cliping  values to be within a reasonable range\n",
        "sensor_data['Sensor_2'] = np.clip(sensor_data['Sensor_2'], 0, 100)\n",
        "\n",
        "# Displaying  a preview of each dataset after preprocessing\n",
        "print(\"\\nSensor Data Preview (After Preprocessing):\")\n",
        "print(sensor_data.head())\n"
      ],
      "metadata": {
        "colab": {
          "base_uri": "https://localhost:8080/"
        },
        "id": "RJ5qLmGZOavO",
        "outputId": "c180e16e-5a61-4461-9da5-6c8ba9c93073"
      },
      "execution_count": null,
      "outputs": [
        {
          "output_type": "stream",
          "name": "stdout",
          "text": [
            "Sensor Data Preview (Before Preprocessing):\n",
            "   Equipment_ID                  Timestamp   Sensor_1   Sensor_2\n",
            "0             1 2023-10-02 09:11:20.047032  44.066488  29.806620\n",
            "1             2 2023-03-26 19:20:01.846712  87.991463  32.040129\n",
            "2             3 2023-01-06 05:12:00.594606  50.552079  16.428684\n",
            "3             4 2023-08-01 11:46:23.327232  50.775784  78.316143\n",
            "4             5 2023-08-18 13:38:23.860457        NaN  12.249786\n",
            "\n",
            "Maintenance Records Preview (Before Preprocessing):\n",
            "   Equipment_ID           Maintenance_Date Maintenance_Type  Downtime_Hours\n",
            "0             1 2023-08-01 11:59:44.667180       Corrective              20\n",
            "1             2 2020-07-23 13:26:00.316566       Preventive               4\n",
            "2             3 2020-02-22 01:08:01.358207       Preventive              21\n",
            "3             4 2021-04-18 14:51:17.824495       Corrective              22\n",
            "4             5 2020-04-23 02:25:12.313391       Corrective               7\n",
            "\n",
            "Sensor Data Preview (After Preprocessing):\n",
            "   Equipment_ID                  Timestamp   Sensor_1   Sensor_2\n",
            "0             1 2023-10-02 09:11:20.047032  44.066488  29.806620\n",
            "1             2 2023-03-26 19:20:01.846712  87.991463  32.040129\n",
            "2             3 2023-01-06 05:12:00.594606  50.552079  16.428684\n",
            "3             4 2023-08-01 11:46:23.327232  50.775784  78.316143\n",
            "4             5 2023-08-18 13:38:23.860457  41.818228  12.249786\n"
          ]
        },
        {
          "output_type": "stream",
          "name": "stderr",
          "text": [
            "<ipython-input-25-36e5ef70b8c0>:44: FutureWarning: DataFrame.mean and DataFrame.median with numeric_only=None will include datetime64 and datetime64tz columns in a future version.\n",
            "  sensor_data = sensor_data.fillna(sensor_data.median())\n"
          ]
        }
      ]
    },
    {
      "cell_type": "code",
      "source": [
        "import pandas as pd\n",
        "import numpy as np\n",
        "from faker import Faker\n",
        "from datetime import datetime, timedelta\n",
        "\n",
        "# Initialize Faker for generating synthetic data\n",
        "fake = Faker()\n",
        "\n",
        "# Load preprocessed datasets\n",
        "sensor_data = pd.read_csv('sensor_data.csv')\n",
        "maintenance_records = pd.read_csv('maintenance_records.csv')\n",
        "\n",
        "# Display a preview of each dataset before feature engineering\n",
        "print(\"Sensor Data Preview (Before Feature Engineering):\")\n",
        "print(sensor_data.head())\n",
        "\n",
        "print(\"\\nMaintenance Records Preview (Before Feature Engineering):\")\n",
        "print(maintenance_records.head())\n",
        "\n",
        "# Feature Engineering\n",
        "\n",
        "# Create a feature for the time since the last maintenance\n",
        "maintenance_records['Maintenance_Date'] = pd.to_datetime(maintenance_records['Maintenance_Date'])\n",
        "maintenance_records = maintenance_records.sort_values(['Equipment_ID', 'Maintenance_Date'])\n",
        "maintenance_records['Time_Since_Last_Maintenance'] = maintenance_records.groupby('Equipment_ID')['Maintenance_Date'].diff().dt.total_seconds() / 3600\n",
        "\n",
        "# Merge sensor data and maintenance records based on Equipment_ID\n",
        "merged_data = pd.merge(sensor_data, maintenance_records, on='Equipment_ID', how='left')\n",
        "\n",
        "# Display a preview of the merged dataset with new features\n",
        "print(\"\\nMerged Data Preview (After Feature Engineering):\")\n",
        "print(merged_data.head())\n"
      ],
      "metadata": {
        "colab": {
          "base_uri": "https://localhost:8080/"
        },
        "id": "ZTRmfHKGPh8c",
        "outputId": "49fc2830-6a76-4e6f-a209-c532d99c274b"
      },
      "execution_count": null,
      "outputs": [
        {
          "output_type": "stream",
          "name": "stdout",
          "text": [
            "Sensor Data Preview (Before Feature Engineering):\n",
            "   Equipment_ID                   Timestamp   Sensor_1   Sensor_2\n",
            "0             1  2023-10-02 09:11:20.047032  44.066488  29.806620\n",
            "1             2  2023-03-26 19:20:01.846712  87.991463  32.040129\n",
            "2             3  2023-01-06 05:12:00.594606  50.552079  16.428684\n",
            "3             4  2023-08-01 11:46:23.327232  50.775784  78.316143\n",
            "4             5  2023-08-18 13:38:23.860457        NaN  12.249786\n",
            "\n",
            "Maintenance Records Preview (Before Feature Engineering):\n",
            "   Equipment_ID            Maintenance_Date Maintenance_Type  Downtime_Hours\n",
            "0             1  2023-08-01 11:59:44.667180       Corrective              20\n",
            "1             2  2020-07-23 13:26:00.316566       Preventive               4\n",
            "2             3  2020-02-22 01:08:01.358207       Preventive              21\n",
            "3             4  2021-04-18 14:51:17.824495       Corrective              22\n",
            "4             5  2020-04-23 02:25:12.313391       Corrective               7\n",
            "\n",
            "Merged Data Preview (After Feature Engineering):\n",
            "   Equipment_ID                   Timestamp   Sensor_1   Sensor_2  \\\n",
            "0             1  2023-10-02 09:11:20.047032  44.066488  29.806620   \n",
            "1             2  2023-03-26 19:20:01.846712  87.991463  32.040129   \n",
            "2             3  2023-01-06 05:12:00.594606  50.552079  16.428684   \n",
            "3             4  2023-08-01 11:46:23.327232  50.775784  78.316143   \n",
            "4             5  2023-08-18 13:38:23.860457        NaN  12.249786   \n",
            "\n",
            "            Maintenance_Date Maintenance_Type  Downtime_Hours  \\\n",
            "0 2023-08-01 11:59:44.667180       Corrective              20   \n",
            "1 2020-07-23 13:26:00.316566       Preventive               4   \n",
            "2 2020-02-22 01:08:01.358207       Preventive              21   \n",
            "3 2021-04-18 14:51:17.824495       Corrective              22   \n",
            "4 2020-04-23 02:25:12.313391       Corrective               7   \n",
            "\n",
            "   Time_Since_Last_Maintenance  \n",
            "0                          NaN  \n",
            "1                          NaN  \n",
            "2                          NaN  \n",
            "3                          NaN  \n",
            "4                          NaN  \n"
          ]
        }
      ]
    },
    {
      "cell_type": "code",
      "source": [
        "from sklearn.model_selection import train_test_split\n",
        "from sklearn.ensemble import RandomForestClassifier\n",
        "from sklearn.metrics import accuracy_score, classification_report\n",
        "# Displaying  a preview of the merged dataset before splitting\n",
        "print(\"Merged Data Preview (Before Splitting):\")\n",
        "print(merged_data.head())\n",
        "\n",
        "# Printing  column names to identify the correct target variable name\n",
        "print(\"Column Names:\", merged_data.columns)\n",
        "\n",
        "# Define features (X) and target variable (y)\n",
        "features = ['Equipment_ID', 'Timestamp', 'Sensor_1', 'Sensor_2', 'Time_Since_Last_Maintenance']\n",
        "X = merged_data[features]\n",
        "\n",
        "# Replace 'Actual_Target_Column_Name' with the correct target variable name\n",
        "y = merged_data['Actual_Target_Column_Name']\n",
        "\n",
        "# Convert categorical variables to numerical using one-hot encoding if needed\n",
        "X = pd.get_dummies(X)\n",
        "\n",
        "# Split the data into training and testing sets\n",
        "X_train, X_test, y_train, y_test = train_test_split(X, y, test_size=0.2, random_state=42)\n",
        "\n",
        "# Instantiate the Random Forest model\n",
        "model = RandomForestClassifier(random_state=42)\n",
        "\n",
        "# Train the model\n",
        "model.fit(X_train, y_train)\n",
        "\n",
        "# Make predictions on the test set\n",
        "y_pred = model.predict(X_test)\n",
        "\n",
        "# Evaluate the model\n",
        "accuracy = accuracy_score(y_test, y_pred)\n",
        "report = classification_report(y_test, y_pred)\n",
        "\n",
        "print(f\"Accuracy: {accuracy}\")\n",
        "print(\"Classification Report:\\n\", report)\n",
        "\n",
        "\n"
      ],
      "metadata": {
        "colab": {
          "base_uri": "https://localhost:8080/",
          "height": 928
        },
        "id": "W2Rfn3VXP_Dr",
        "outputId": "40aa9660-c962-4cc7-9000-013cdc3b4f6e"
      },
      "execution_count": null,
      "outputs": [
        {
          "output_type": "stream",
          "name": "stdout",
          "text": [
            "Merged Data Preview (Before Splitting):\n",
            "   Equipment_ID                   Timestamp   Sensor_1   Sensor_2  \\\n",
            "0             1  2023-10-02 09:11:20.047032  44.066488  29.806620   \n",
            "1             2  2023-03-26 19:20:01.846712  87.991463  32.040129   \n",
            "2             3  2023-01-06 05:12:00.594606  50.552079  16.428684   \n",
            "3             4  2023-08-01 11:46:23.327232  50.775784  78.316143   \n",
            "4             5  2023-08-18 13:38:23.860457        NaN  12.249786   \n",
            "\n",
            "            Maintenance_Date Maintenance_Type  Downtime_Hours  \\\n",
            "0 2023-08-01 11:59:44.667180       Corrective              20   \n",
            "1 2020-07-23 13:26:00.316566       Preventive               4   \n",
            "2 2020-02-22 01:08:01.358207       Preventive              21   \n",
            "3 2021-04-18 14:51:17.824495       Corrective              22   \n",
            "4 2020-04-23 02:25:12.313391       Corrective               7   \n",
            "\n",
            "   Time_Since_Last_Maintenance  \n",
            "0                          NaN  \n",
            "1                          NaN  \n",
            "2                          NaN  \n",
            "3                          NaN  \n",
            "4                          NaN  \n",
            "Column Names: Index(['Equipment_ID', 'Timestamp', 'Sensor_1', 'Sensor_2', 'Maintenance_Date',\n",
            "       'Maintenance_Type', 'Downtime_Hours', 'Time_Since_Last_Maintenance'],\n",
            "      dtype='object')\n"
          ]
        },
        {
          "output_type": "error",
          "ename": "KeyError",
          "evalue": "ignored",
          "traceback": [
            "\u001b[0;31m---------------------------------------------------------------------------\u001b[0m",
            "\u001b[0;31mKeyError\u001b[0m                                  Traceback (most recent call last)",
            "\u001b[0;32m/usr/local/lib/python3.10/dist-packages/pandas/core/indexes/base.py\u001b[0m in \u001b[0;36mget_loc\u001b[0;34m(self, key, method, tolerance)\u001b[0m\n\u001b[1;32m   3801\u001b[0m             \u001b[0;32mtry\u001b[0m\u001b[0;34m:\u001b[0m\u001b[0;34m\u001b[0m\u001b[0;34m\u001b[0m\u001b[0m\n\u001b[0;32m-> 3802\u001b[0;31m                 \u001b[0;32mreturn\u001b[0m \u001b[0mself\u001b[0m\u001b[0;34m.\u001b[0m\u001b[0m_engine\u001b[0m\u001b[0;34m.\u001b[0m\u001b[0mget_loc\u001b[0m\u001b[0;34m(\u001b[0m\u001b[0mcasted_key\u001b[0m\u001b[0;34m)\u001b[0m\u001b[0;34m\u001b[0m\u001b[0;34m\u001b[0m\u001b[0m\n\u001b[0m\u001b[1;32m   3803\u001b[0m             \u001b[0;32mexcept\u001b[0m \u001b[0mKeyError\u001b[0m \u001b[0;32mas\u001b[0m \u001b[0merr\u001b[0m\u001b[0;34m:\u001b[0m\u001b[0;34m\u001b[0m\u001b[0;34m\u001b[0m\u001b[0m\n",
            "\u001b[0;32m/usr/local/lib/python3.10/dist-packages/pandas/_libs/index.pyx\u001b[0m in \u001b[0;36mpandas._libs.index.IndexEngine.get_loc\u001b[0;34m()\u001b[0m\n",
            "\u001b[0;32m/usr/local/lib/python3.10/dist-packages/pandas/_libs/index.pyx\u001b[0m in \u001b[0;36mpandas._libs.index.IndexEngine.get_loc\u001b[0;34m()\u001b[0m\n",
            "\u001b[0;32mpandas/_libs/hashtable_class_helper.pxi\u001b[0m in \u001b[0;36mpandas._libs.hashtable.PyObjectHashTable.get_item\u001b[0;34m()\u001b[0m\n",
            "\u001b[0;32mpandas/_libs/hashtable_class_helper.pxi\u001b[0m in \u001b[0;36mpandas._libs.hashtable.PyObjectHashTable.get_item\u001b[0;34m()\u001b[0m\n",
            "\u001b[0;31mKeyError\u001b[0m: 'Actual_Target_Column_Name'",
            "\nThe above exception was the direct cause of the following exception:\n",
            "\u001b[0;31mKeyError\u001b[0m                                  Traceback (most recent call last)",
            "\u001b[0;32m<ipython-input-30-046767234d79>\u001b[0m in \u001b[0;36m<cell line: 19>\u001b[0;34m()\u001b[0m\n\u001b[1;32m     17\u001b[0m \u001b[0;34m\u001b[0m\u001b[0m\n\u001b[1;32m     18\u001b[0m \u001b[0;31m# Replace 'Actual_Target_Column_Name' with the correct target variable name\u001b[0m\u001b[0;34m\u001b[0m\u001b[0;34m\u001b[0m\u001b[0m\n\u001b[0;32m---> 19\u001b[0;31m \u001b[0my\u001b[0m \u001b[0;34m=\u001b[0m \u001b[0mmerged_data\u001b[0m\u001b[0;34m[\u001b[0m\u001b[0;34m'Actual_Target_Column_Name'\u001b[0m\u001b[0;34m]\u001b[0m\u001b[0;34m\u001b[0m\u001b[0;34m\u001b[0m\u001b[0m\n\u001b[0m\u001b[1;32m     20\u001b[0m \u001b[0;34m\u001b[0m\u001b[0m\n\u001b[1;32m     21\u001b[0m \u001b[0;31m# Convert categorical variables to numerical using one-hot encoding if needed\u001b[0m\u001b[0;34m\u001b[0m\u001b[0;34m\u001b[0m\u001b[0m\n",
            "\u001b[0;32m/usr/local/lib/python3.10/dist-packages/pandas/core/frame.py\u001b[0m in \u001b[0;36m__getitem__\u001b[0;34m(self, key)\u001b[0m\n\u001b[1;32m   3805\u001b[0m             \u001b[0;32mif\u001b[0m \u001b[0mself\u001b[0m\u001b[0;34m.\u001b[0m\u001b[0mcolumns\u001b[0m\u001b[0;34m.\u001b[0m\u001b[0mnlevels\u001b[0m \u001b[0;34m>\u001b[0m \u001b[0;36m1\u001b[0m\u001b[0;34m:\u001b[0m\u001b[0;34m\u001b[0m\u001b[0;34m\u001b[0m\u001b[0m\n\u001b[1;32m   3806\u001b[0m                 \u001b[0;32mreturn\u001b[0m \u001b[0mself\u001b[0m\u001b[0;34m.\u001b[0m\u001b[0m_getitem_multilevel\u001b[0m\u001b[0;34m(\u001b[0m\u001b[0mkey\u001b[0m\u001b[0;34m)\u001b[0m\u001b[0;34m\u001b[0m\u001b[0;34m\u001b[0m\u001b[0m\n\u001b[0;32m-> 3807\u001b[0;31m             \u001b[0mindexer\u001b[0m \u001b[0;34m=\u001b[0m \u001b[0mself\u001b[0m\u001b[0;34m.\u001b[0m\u001b[0mcolumns\u001b[0m\u001b[0;34m.\u001b[0m\u001b[0mget_loc\u001b[0m\u001b[0;34m(\u001b[0m\u001b[0mkey\u001b[0m\u001b[0;34m)\u001b[0m\u001b[0;34m\u001b[0m\u001b[0;34m\u001b[0m\u001b[0m\n\u001b[0m\u001b[1;32m   3808\u001b[0m             \u001b[0;32mif\u001b[0m \u001b[0mis_integer\u001b[0m\u001b[0;34m(\u001b[0m\u001b[0mindexer\u001b[0m\u001b[0;34m)\u001b[0m\u001b[0;34m:\u001b[0m\u001b[0;34m\u001b[0m\u001b[0;34m\u001b[0m\u001b[0m\n\u001b[1;32m   3809\u001b[0m                 \u001b[0mindexer\u001b[0m \u001b[0;34m=\u001b[0m \u001b[0;34m[\u001b[0m\u001b[0mindexer\u001b[0m\u001b[0;34m]\u001b[0m\u001b[0;34m\u001b[0m\u001b[0;34m\u001b[0m\u001b[0m\n",
            "\u001b[0;32m/usr/local/lib/python3.10/dist-packages/pandas/core/indexes/base.py\u001b[0m in \u001b[0;36mget_loc\u001b[0;34m(self, key, method, tolerance)\u001b[0m\n\u001b[1;32m   3802\u001b[0m                 \u001b[0;32mreturn\u001b[0m \u001b[0mself\u001b[0m\u001b[0;34m.\u001b[0m\u001b[0m_engine\u001b[0m\u001b[0;34m.\u001b[0m\u001b[0mget_loc\u001b[0m\u001b[0;34m(\u001b[0m\u001b[0mcasted_key\u001b[0m\u001b[0;34m)\u001b[0m\u001b[0;34m\u001b[0m\u001b[0;34m\u001b[0m\u001b[0m\n\u001b[1;32m   3803\u001b[0m             \u001b[0;32mexcept\u001b[0m \u001b[0mKeyError\u001b[0m \u001b[0;32mas\u001b[0m \u001b[0merr\u001b[0m\u001b[0;34m:\u001b[0m\u001b[0;34m\u001b[0m\u001b[0;34m\u001b[0m\u001b[0m\n\u001b[0;32m-> 3804\u001b[0;31m                 \u001b[0;32mraise\u001b[0m \u001b[0mKeyError\u001b[0m\u001b[0;34m(\u001b[0m\u001b[0mkey\u001b[0m\u001b[0;34m)\u001b[0m \u001b[0;32mfrom\u001b[0m \u001b[0merr\u001b[0m\u001b[0;34m\u001b[0m\u001b[0;34m\u001b[0m\u001b[0m\n\u001b[0m\u001b[1;32m   3805\u001b[0m             \u001b[0;32mexcept\u001b[0m \u001b[0mTypeError\u001b[0m\u001b[0;34m:\u001b[0m\u001b[0;34m\u001b[0m\u001b[0;34m\u001b[0m\u001b[0m\n\u001b[1;32m   3806\u001b[0m                 \u001b[0;31m# If we have a listlike key, _check_indexing_error will raise\u001b[0m\u001b[0;34m\u001b[0m\u001b[0;34m\u001b[0m\u001b[0m\n",
            "\u001b[0;31mKeyError\u001b[0m: 'Actual_Target_Column_Name'"
          ]
        }
      ]
    },
    {
      "cell_type": "code",
      "source": [
        "!git clone https://github.com/maxivcodes/datascience2023.git\n"
      ],
      "metadata": {
        "colab": {
          "base_uri": "https://localhost:8080/"
        },
        "id": "T40XHLLHwKg_",
        "outputId": "1d4c39b0-8825-4f3c-96c1-8ca4e3389f9d"
      },
      "execution_count": 2,
      "outputs": [
        {
          "output_type": "stream",
          "name": "stdout",
          "text": [
            "Cloning into 'datascience2023'...\n",
            "warning: You appear to have cloned an empty repository.\n"
          ]
        }
      ]
    }
  ]
}